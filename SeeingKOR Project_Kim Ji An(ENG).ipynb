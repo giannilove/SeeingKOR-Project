{
 "cells": [
  {
   "cell_type": "markdown",
   "metadata": {},
   "source": [
    "# SeeingKOR Project Report\n",
    "# Global Korean Studies, 20181204, Ji-an Kim"
   ]
  },
  {
   "cell_type": "markdown",
   "metadata": {},
   "source": [
    "## * Concept"
   ]
  },
  {
   "cell_type": "markdown",
   "metadata": {},
   "source": [
    "1. The theme of pygame is 'Joseon vs. Japan' during the Imjin War, 1592~1598.\n",
    "2. The Turtle ship(Player) must stop Japanese ships, to protect Joseon.\n",
    "3. This game is similar to the airplane shooting game of arcade game machine.\n",
    "4. The background color is blue, looking like the sea."
   ]
  },
  {
   "cell_type": "markdown",
   "metadata": {},
   "source": [
    "## * How to Play"
   ]
  },
  {
   "cell_type": "markdown",
   "metadata": {},
   "source": [
    "1. The Turtle ship moves up and down from the left side of the screen.\n",
    "2. The japanese ship moves gradually toward the turtle ship from the end of the screen.\n",
    "3. The Turtle ship must hit the approaching ship with a cannon.\n",
    "4. The player adjusts the position of the turtle ship using the ↑ or ↓ keys. And fire cannons toward Japanese ship, using the space bar.\n",
    "5. If the Turtle ship fails to hit the Japanese ship, Crash! text appears. (Game End)"
   ]
  },
  {
   "cell_type": "markdown",
   "metadata": {},
   "source": [
    "## * Making Game Code"
   ]
  },
  {
   "cell_type": "markdown",
   "metadata": {},
   "source": [
    "### 1. Library Import"
   ]
  },
  {
   "cell_type": "code",
   "execution_count": null,
   "metadata": {},
   "outputs": [],
   "source": [
    "import pygame\n",
    "import random\n",
    "from time import sleep"
   ]
  },
  {
   "cell_type": "markdown",
   "metadata": {},
   "source": [
    "### 2. Defining variables used in games"
   ]
  },
  {
   "cell_type": "code",
   "execution_count": null,
   "metadata": {},
   "outputs": [],
   "source": [
    "BLACK = (0,0,0)\n",
    "RED = (255,0,0)\n",
    "BLUE = (0,0,255)\n",
    "pad_width = 900\n",
    "pad_height = 550\n",
    "fighter_width = 120\n",
    "fighter_height = 80\n",
    "enemy_width = 100\n",
    "enemy_height = 100"
   ]
  },
  {
   "cell_type": "markdown",
   "metadata": {},
   "source": [
    "First, save the RGB value of the color that can be used in the game. Also, pad_width and pad_height define the size of the game screen.\n",
    "The Turtle ship's width and height are 120X80.\n",
    "The Japanese ship(Enemy)'s width and height are 100X100."
   ]
  },
  {
   "cell_type": "markdown",
   "metadata": {},
   "source": [
    "### 3. Function to calculate the number of hitted enemies; **drawKills**"
   ]
  },
  {
   "cell_type": "code",
   "execution_count": null,
   "metadata": {},
   "outputs": [],
   "source": [
    "def drawKills(count):\n",
    "    global gamepad\n",
    "    font = pygame.font.SysFont(None, 30)\n",
    "    text = font.render('Enemy Kills :' + str(count), True, (255,255,255))\n",
    "    gamepad.blit(text,(0,0))"
   ]
  },
  {
   "cell_type": "markdown",
   "metadata": {},
   "source": [
    "At the top left of the game screen, 'Enemy Kills: XX' is written in size of 30. Here, **global** means we are going to use global variables."
   ]
  },
  {
   "cell_type": "markdown",
   "metadata": {},
   "source": [
    "### 4. Function to add 'Crush!'; **writeMessage, crash** "
   ]
  },
  {
   "cell_type": "code",
   "execution_count": null,
   "metadata": {},
   "outputs": [],
   "source": [
    "def writeMessage(text):\n",
    "    global gamepad\n",
    "    textfont = pygame.font.Font('freesansbold.ttf', 80)\n",
    "    text = textfont.render(text, True, RED)\n",
    "    textpos = text.get_rect()\n",
    "    textpos.center = (pad_width/2, pad_height/2)\n",
    "    gamepad.blit(text,textpos)\n",
    "    pygame.display.update()\n",
    "    sleep(2)\n",
    "    runGame()\n",
    "    \n",
    "def crash():\n",
    "    global gamepad\n",
    "    writeMessage('Crash!')"
   ]
  },
  {
   "cell_type": "markdown",
   "metadata": {},
   "source": [
    "When the Turtle ship collides with the enemy, the message **'Crash!'** is output. The font is used at the center of the screen, with \"freesansbold font\", 80 size and red. Also, after a two-second break, the game will resume. (See 'sleep(2) -> rungame()' code.)"
   ]
  },
  {
   "cell_type": "markdown",
   "metadata": {},
   "source": [
    "### 5. Function to represent an object on the screen; **drawObject**"
   ]
  },
  {
   "cell_type": "code",
   "execution_count": null,
   "metadata": {},
   "outputs": [],
   "source": [
    "def drawObject(obj,x,y):\n",
    "    global gamepad\n",
    "    gamepad.blit(obj,(x,y))"
   ]
  },
  {
   "cell_type": "markdown",
   "metadata": {},
   "source": [
    "Various objects such as the Turtle ship(fighter), the Japanese ship(enemy), and cannons are used in this game. These objects were grouped together as a function to appear on the screen. The object you want to represent can be called a **drawObject(the name of the object, (x-coordinate, y-coordinate))**."
   ]
  },
  {
   "cell_type": "markdown",
   "metadata": {},
   "source": [
    "### 6. Function to play game; **runGame**"
   ]
  },
  {
   "cell_type": "code",
   "execution_count": null,
   "metadata": {},
   "outputs": [],
   "source": [
    "def runGame():\n",
    "    global gamepad, clock, fighter, enemy, bullet\n",
    " \n",
    "    isShot = False # If a cannon(bullet) hits the enemy, isShot turns into 'True'\n",
    "    shotcount = 0\n",
    "    enemypassed = 0\n",
    " \n",
    "    # A List for bullet's location\n",
    "    bullet_xy = []\n",
    " \n",
    "    # Turtle ship(fighter)'s location (x,y)\n",
    "    x = pad_width * 0.01 # 900 * 0.01, leftmost of the game pad\n",
    "    y = pad_height * 0.5 # 550 * 0.5, middle of the game pad\n",
    "    y_change = 0\n",
    " \n",
    "    # Japanese ship(enemy)'s location (enemy_x,enemy_y)\n",
    "    enemy_y = random.randrange(0,pad_height - enemy_height) # y location is landom\n",
    "    enemy_x = pad_width # x location is fixed\n",
    "    enemy_speed = 2 # first speed is 2\n",
    " \n",
    "    ongame = False\n",
    "    while not ongame:\n",
    "        for event in pygame.event.get():\n",
    "            if event.type == pygame.QUIT: # quit the pad\n",
    "                doneFlag = True\n",
    " \n",
    "            if event.type == pygame.KEYDOWN: # when you press the key\n",
    "                if event.key == pygame.K_UP: # when you press ↑ key\n",
    "                    y_change -= 5 # fighter goes upward\n",
    " \n",
    "                elif  event.key == pygame.K_DOWN: # when you press ↓ key\n",
    "                    y_change += 5 # fighter goes downward\n",
    " \n",
    "                # when you press SPACE, bullet is fired\n",
    "                elif  event.key == pygame.K_SPACE:\n",
    "                    if len(bullet_xy) < 3:\n",
    "                        bullet_x = x + fighter_width # bullet's x location\n",
    "                        bullet_y = y + fighter_height/2 # bullet's y location\n",
    "                        bullet_xy.append([bullet_x, bullet_y]) # indicates x, y coordinates of the bullet\n",
    " \n",
    "            if event.type == pygame.KEYUP: # when you don't press any keys\n",
    "                if event.key == pygame.K_UP or event.key == pygame.K_DOWN:\n",
    "                    y_change = 0 # changed value of y is 0\n",
    " \n",
    "        gamepad.fill(BLUE) # fill the game pad with BLUE color, and update the screen\n",
    "         \n",
    "        # relocate the fighter\n",
    "        y += y_change # fighter's location = y + y_change\n",
    "        if y < 0:\n",
    "            y = 0 # fighter can't escape the game pad\n",
    "        elif y > pad_height - fighter_height:\n",
    "            y = pad_height - fighter_height\n",
    " \n",
    "        # check if fighter crashed with enemy\n",
    "        if x >= enemy_x:\n",
    "                crash()\n",
    "        drawObject(fighter,x,y) # draw fighter on the screen\n",
    "         \n",
    "        if len(bullet_xy) != 0:\n",
    "            for i, bxy in enumerate(bullet_xy): # repeat bullets\n",
    "                bxy[0] += 10 # bullet's x location moves right\n",
    "                bullet_xy[i][0] = bxy[0]\n",
    " \n",
    "                # if bullet hits enemy\n",
    "                if bxy[0] > enemy_x:\n",
    "                    if bxy[1] > enemy_y and bxy[1] < enemy_y + enemy_height:\n",
    "                        bullet_xy.remove(bxy) # remove bullet\n",
    "                        isShot = True\n",
    "                        shotcount += 1\n",
    " \n",
    "                if bxy[0] >= pad_width: # if bullet escape the game pad \n",
    "                    try:\n",
    "                        bullet_xy.remove(bxy)  # remove bullet\n",
    "                    except:\n",
    "                        pass\n",
    " \n",
    "        if len(bullet_xy) != 0:\n",
    "            for bx,by in bullet_xy:\n",
    "                drawObject(bullet,bx,by) # draw bullet on the screen\n",
    "        \n",
    "        drawKills(shotcount) # draw 'Enemy Kills: XX'\n",
    " \n",
    "        # move enemy to the left\n",
    "        enemy_x -= enemy_speed\n",
    " \n",
    "        if enemy_x < 0:\n",
    "            enemy_x = 0 # if enemy go to the leftmost, x location changes into 0\n",
    "            enemy_y = random.randrange(0, pad_height - enemy_height) # relocate y-coordinate\n",
    " \n",
    "        # if enemy is hitted, speed up\n",
    "        if isShot:\n",
    "            enemy_speed += 1\n",
    "            if enemy_speed >= 10:\n",
    "                enemy_speed = 10 # the maximum of speed is 10\n",
    " \n",
    "            enemy_y = random.randrange(0, pad_height-enemy_height)\n",
    "            enemy_x = pad_width\n",
    "            isShot = False\n",
    "        drawObject(enemy,enemy_x,enemy_y) # draw enemy on the screen\n",
    "         \n",
    "        pygame.display.update() \n",
    "        clock.tick(60) # fps = 60\n",
    "    pygame.quit() # quit the pygame"
   ]
  },
  {
   "cell_type": "markdown",
   "metadata": {},
   "source": [
    "The function's explanation is replaced by an annotation(#) in the above code."
   ]
  },
  {
   "cell_type": "markdown",
   "metadata": {},
   "source": [
    "### 7. Function to initialize a game; **initGame**"
   ]
  },
  {
   "cell_type": "code",
   "execution_count": null,
   "metadata": {},
   "outputs": [],
   "source": [
    "def initGame():\n",
    "    global gamepad,clock,fighter, enemy, bullet\n",
    "    pygame.init()\n",
    "    gamepad = pygame.display.set_mode((pad_width, pad_height))\n",
    "    \n",
    "    pygame.display.set_caption('jian Game') # title of pygame = 'jian Game'\n",
    "    \n",
    "    # Calling up images to be used in games\n",
    "    fighter = pygame.image.load('koreaship.png')\n",
    "    enemy = pygame.image.load('japanship.png')\n",
    "    bullet = pygame.image.load('bullet.png')\n",
    "    \n",
    "    clock = pygame.time.Clock() # Create Clock object that can set frames per second"
   ]
  },
  {
   "cell_type": "markdown",
   "metadata": {},
   "source": [
    "Also, this function's explanation is replaced by an annotation(#) in the above code."
   ]
  },
  {
   "cell_type": "markdown",
   "metadata": {},
   "source": [
    "### 8. Initialize and run games"
   ]
  },
  {
   "cell_type": "code",
   "execution_count": null,
   "metadata": {},
   "outputs": [],
   "source": [
    "initGame()\n",
    "runGame()"
   ]
  },
  {
   "cell_type": "markdown",
   "metadata": {},
   "source": [
    "## * The Whole Code"
   ]
  },
  {
   "cell_type": "code",
   "execution_count": null,
   "metadata": {},
   "outputs": [
    {
     "name": "stdout",
     "output_type": "stream",
     "text": [
      "pygame 1.9.5\n",
      "Hello from the pygame community. https://www.pygame.org/contribute.html\n"
     ]
    }
   ],
   "source": [
    "import pygame\n",
    "import random\n",
    "from time import sleep\n",
    "\n",
    "BLACK = (0,0,0)\n",
    "RED = (255,0,0)\n",
    "BLUE = (0,0,255)\n",
    "pad_width = 900\n",
    "pad_height = 550\n",
    "fighter_width = 120\n",
    "fighter_height = 80\n",
    "enemy_width = 100\n",
    "enemy_height = 100\n",
    "\n",
    "def drawKills(count):\n",
    "    global gamepad\n",
    "    font = pygame.font.SysFont(None, 30)\n",
    "    text = font.render('Enemy Kills:' + str(count), True, (255,255,255))\n",
    "    gamepad.blit(text,(0,0))\n",
    "\n",
    "def writeMessage(text):\n",
    "    global gamepad\n",
    "    textfont = pygame.font.Font('freesansbold.ttf', 80)\n",
    "    text = textfont.render(text, True, RED)\n",
    "    textpos = text.get_rect()\n",
    "    textpos.center = (pad_width/2, pad_height/2)\n",
    "    gamepad.blit(text,textpos)\n",
    "    pygame.display.update()\n",
    "    sleep(2)\n",
    "    runGame()\n",
    "    \n",
    "def crash():\n",
    "    global gamepad\n",
    "    writeMessage('Crash!')\n",
    "\n",
    "def drawObject(obj,x,y):\n",
    "    global gamepad\n",
    "    gamepad.blit(obj,(x,y))\n",
    "\n",
    "def runGame():\n",
    "    global gamepad, clock, fighter, enemy, bullet\n",
    " \n",
    "    isShot = False # If a cannon(bullet) hits the enemy, isShot turns into 'True'\n",
    "    shotcount = 0\n",
    "    enemypassed = 0\n",
    " \n",
    "    # A List for bullet's location\n",
    "    bullet_xy = []\n",
    " \n",
    "    # Turtle ship(fighter)'s location (x,y)\n",
    "    x = pad_width * 0.01 # 900 * 0.01, leftmost of the game pad\n",
    "    y = pad_height * 0.5 # 550 * 0.5, middle of the game pad\n",
    "    y_change = 0\n",
    " \n",
    "    # Japanese ship(enemy)'s location (enemy_x,enemy_y)\n",
    "    enemy_y = random.randrange(0,pad_height - enemy_height) # y location is landom\n",
    "    enemy_x = pad_width # x location is fixed\n",
    "    enemy_speed = 2 # first speed is 2\n",
    " \n",
    "    ongame = False\n",
    "    while not ongame:\n",
    "        for event in pygame.event.get():\n",
    "            if event.type == pygame.QUIT: # quit the pad\n",
    "                doneFlag = True\n",
    " \n",
    "            if event.type == pygame.KEYDOWN: # when you press the key\n",
    "                if event.key == pygame.K_UP: # when you press ↑ key\n",
    "                    y_change -= 5 # fighter goes upward\n",
    " \n",
    "                elif  event.key == pygame.K_DOWN: # when you press ↓ key\n",
    "                    y_change += 5 # fighter goes downward\n",
    " \n",
    "                # when you press SPACE, bullet is fired\n",
    "                elif  event.key == pygame.K_SPACE:\n",
    "                    if len(bullet_xy) < 3:\n",
    "                        bullet_x = x + fighter_width # bullet's x location\n",
    "                        bullet_y = y + fighter_height/2 # bullet's y location\n",
    "                        bullet_xy.append([bullet_x, bullet_y]) # indicates x, y coordinates of the bullet\n",
    " \n",
    "            if event.type == pygame.KEYUP: # when you don't press any keys\n",
    "                if event.key == pygame.K_UP or event.key == pygame.K_DOWN:\n",
    "                    y_change = 0 # changed value of y is 0\n",
    " \n",
    "        gamepad.fill(BLUE) # fill the game pad with BLUE color, and update the screen\n",
    "         \n",
    "        # relocate the fighter\n",
    "        y += y_change # fighter's location = y + y_change\n",
    "        if y < 0:\n",
    "            y = 0 # fighter can't escape the game pad\n",
    "        elif y > pad_height - fighter_height:\n",
    "            y = pad_height - fighter_height\n",
    " \n",
    "        # check if fighter crashed with enemy\n",
    "        if x >= enemy_x:\n",
    "                crash()\n",
    "        drawObject(fighter,x,y) # draw fighter on the screen\n",
    "         \n",
    "        if len(bullet_xy) != 0:\n",
    "            for i, bxy in enumerate(bullet_xy): # repeat bullets\n",
    "                bxy[0] += 10 # bullet's x location moves right\n",
    "                bullet_xy[i][0] = bxy[0]\n",
    " \n",
    "                # if bullet hits enemy\n",
    "                if bxy[0] > enemy_x:\n",
    "                    if bxy[1] > enemy_y and bxy[1] < enemy_y + enemy_height:\n",
    "                        bullet_xy.remove(bxy) # remove bullet\n",
    "                        isShot = True\n",
    "                        shotcount += 1\n",
    " \n",
    "                if bxy[0] >= pad_width: # if bullet escape the game pad \n",
    "                    try:\n",
    "                        bullet_xy.remove(bxy)  # remove bullet\n",
    "                    except:\n",
    "                        pass\n",
    " \n",
    "        if len(bullet_xy) != 0:\n",
    "            for bx,by in bullet_xy:\n",
    "                drawObject(bullet,bx,by) # draw bullet on the screen\n",
    "        \n",
    "        drawKills(shotcount) # draw 'Enemy Kills: XX'\n",
    " \n",
    "        # move enemy to the left\n",
    "        enemy_x -= enemy_speed\n",
    " \n",
    "        if enemy_x < 0:\n",
    "            enemy_x = 0 # if enemy go to the leftmost, x location changes into 0\n",
    "            enemy_y = random.randrange(0, pad_height - enemy_height) # relocate y-coordinate\n",
    " \n",
    "        # if enemy is hitted, speed up\n",
    "        if isShot:\n",
    "            enemy_speed += 1\n",
    "            if enemy_speed >= 10:\n",
    "                enemy_speed = 10 # the maximum of speed is 10\n",
    " \n",
    "            enemy_y = random.randrange(0, pad_height-enemy_height)\n",
    "            enemy_x = pad_width\n",
    "            isShot = False\n",
    "        drawObject(enemy,enemy_x,enemy_y) # draw enemy on the screen\n",
    "         \n",
    "        pygame.display.update() \n",
    "        clock.tick(60) # fps = 60\n",
    "    pygame.quit() # quit the pygame\n",
    "    \n",
    "def initGame():\n",
    "    global gamepad,clock,fighter, enemy, bullet\n",
    "    pygame.init()\n",
    "    gamepad = pygame.display.set_mode((pad_width, pad_height))\n",
    "    \n",
    "    pygame.display.set_caption('jian Game') # title of pygame = 'jian Game'\n",
    "    \n",
    "    # Calling up images to be used in games\n",
    "    fighter = pygame.image.load('koreaship.png')\n",
    "    enemy = pygame.image.load('japanship.png')\n",
    "    bullet = pygame.image.load('bullet.png')\n",
    "    \n",
    "    clock = pygame.time.Clock() # Create Clock object that can set frames per second\n",
    "\n",
    "initGame()\n",
    "runGame()"
   ]
  },
  {
   "cell_type": "markdown",
   "metadata": {},
   "source": [
    "## * Conclusion and Opinion"
   ]
  },
  {
   "cell_type": "markdown",
   "metadata": {},
   "source": [
    "So far, learning about pygames through this \"Seeing Korea: An Introduction to Image Generation, Processing & Computer Vision\" class has found that making a simple game takes more effort than I think. In fact, the code used for the project amounts to 150 lines. I dared to experience how much developer effort it takes to play one game. As a student of Global Korean studies, I have been thinking and practicing how to express 'Korean Studies' in a fun way in relation to game. The use of computers and learning is endless. As a university student living in the IT world, I think it was a good opportunity to practice Korean studies in various fields."
   ]
  },
  {
   "cell_type": "markdown",
   "metadata": {},
   "source": [
    "## * References"
   ]
  },
  {
   "cell_type": "markdown",
   "metadata": {},
   "source": [
    "1. <Python 200 for beginners>\n",
    "2. ThePythonGameBook \"http://thepythongamebook.com/start\"\n",
    "3. Program Arcade Games With Python And Pygame, Chapter 13\n",
    "\"http://programarcadegames.com/index.php?chapter=introduction_to_sprites&lang=ko#section_13\"\n",
    "4. Pygame Documentation \"https://www.pygame.org/docs/\""
   ]
  }
 ],
 "metadata": {
  "kernelspec": {
   "display_name": "Python 3",
   "language": "python",
   "name": "python3"
  },
  "language_info": {
   "codemirror_mode": {
    "name": "ipython",
    "version": 3
   },
   "file_extension": ".py",
   "mimetype": "text/x-python",
   "name": "python",
   "nbconvert_exporter": "python",
   "pygments_lexer": "ipython3",
   "version": "3.6.7"
  }
 },
 "nbformat": 4,
 "nbformat_minor": 2
}
